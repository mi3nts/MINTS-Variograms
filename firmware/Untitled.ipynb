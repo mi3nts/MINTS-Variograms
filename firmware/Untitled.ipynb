{
 "cells": [
  {
   "cell_type": "code",
   "execution_count": 2,
   "id": "b55004e9",
   "metadata": {},
   "outputs": [],
   "source": [
    "import xarray as xr"
   ]
  },
  {
   "cell_type": "code",
   "execution_count": 6,
   "id": "4e8b16d5",
   "metadata": {},
   "outputs": [
    {
     "name": "stderr",
     "output_type": "stream",
     "text": [
      "Can't create file 'D:\\\\UTD\\\\UTDFall2022\\\\VariogramsLoRa\\\\firmware\\\\data\\\\gdas1.apr23.w1.923a8.idx'\n",
      "Traceback (most recent call last):\n",
      "  File \"C:\\Users\\balag\\anaconda3\\envs\\variogram\\lib\\site-packages\\cfgrib\\messages.py\", line 273, in itervalues\n",
      "    yield self.filestream.message_from_file(file, errors=errors)\n",
      "  File \"C:\\Users\\balag\\anaconda3\\envs\\variogram\\lib\\site-packages\\cfgrib\\messages.py\", line 340, in message_from_file\n",
      "    return Message.from_file(file, offset, **kwargs)\n",
      "  File \"C:\\Users\\balag\\anaconda3\\envs\\variogram\\lib\\site-packages\\cfgrib\\messages.py\", line 104, in from_file\n",
      "    raise EOFError(\"End of file: %r\" % file)\n",
      "EOFError: End of file: <_io.BufferedReader name='D:\\\\UTD\\\\UTDFall2022\\\\VariogramsLoRa\\\\firmware\\\\data\\\\gdas1.apr23.w1'>\n",
      "\n",
      "During handling of the above exception, another exception occurred:\n",
      "\n",
      "Traceback (most recent call last):\n",
      "  File \"C:\\Users\\balag\\anaconda3\\envs\\variogram\\lib\\site-packages\\cfgrib\\messages.py\", line 535, in from_indexpath_or_filestream\n",
      "    self = cls.from_fieldset(filestream, index_keys, computed_keys)\n",
      "  File \"C:\\Users\\balag\\anaconda3\\envs\\variogram\\lib\\site-packages\\cfgrib\\messages.py\", line 378, in from_fieldset\n",
      "    return cls.from_fieldset_and_iteritems(fieldset, iteritems, index_keys, computed_keys)\n",
      "  File \"C:\\Users\\balag\\anaconda3\\envs\\variogram\\lib\\site-packages\\cfgrib\\messages.py\", line 391, in from_fieldset_and_iteritems\n",
      "    for field_id, raw_field in iteritems:\n",
      "  File \"C:\\Users\\balag\\anaconda3\\envs\\variogram\\lib\\site-packages\\cfgrib\\messages.py\", line 291, in __iter__\n",
      "    for message in self.itervalues():\n",
      "  File \"C:\\Users\\balag\\anaconda3\\envs\\variogram\\lib\\site-packages\\cfgrib\\messages.py\", line 277, in itervalues\n",
      "    raise EOFError(\"No valid message found: %r\" % self.filestream.path)\n",
      "EOFError: No valid message found: 'D:\\\\UTD\\\\UTDFall2022\\\\VariogramsLoRa\\\\firmware\\\\data\\\\gdas1.apr23.w1'\n",
      "Can't read index file 'D:\\\\UTD\\\\UTDFall2022\\\\VariogramsLoRa\\\\firmware\\\\data\\\\gdas1.apr23.w1.923a8.idx'\n",
      "Traceback (most recent call last):\n",
      "  File \"C:\\Users\\balag\\anaconda3\\envs\\variogram\\lib\\site-packages\\cfgrib\\messages.py\", line 544, in from_indexpath_or_filestream\n",
      "    index_mtime = os.path.getmtime(indexpath)\n",
      "  File \"C:\\Users\\balag\\anaconda3\\envs\\variogram\\lib\\genericpath.py\", line 55, in getmtime\n",
      "    return os.stat(filename).st_mtime\n",
      "FileNotFoundError: [WinError 2] The system cannot find the file specified: 'D:\\\\UTD\\\\UTDFall2022\\\\VariogramsLoRa\\\\firmware\\\\data\\\\gdas1.apr23.w1.923a8.idx'\n"
     ]
    },
    {
     "ename": "EOFError",
     "evalue": "No valid message found: 'D:\\\\UTD\\\\UTDFall2022\\\\VariogramsLoRa\\\\firmware\\\\data\\\\gdas1.apr23.w1'",
     "output_type": "error",
     "traceback": [
      "\u001b[1;31m---------------------------------------------------------------------------\u001b[0m",
      "\u001b[1;31mEOFError\u001b[0m                                  Traceback (most recent call last)",
      "\u001b[1;32m~\\anaconda3\\envs\\variogram\\lib\\site-packages\\cfgrib\\messages.py\u001b[0m in \u001b[0;36mitervalues\u001b[1;34m(self)\u001b[0m\n\u001b[0;32m    272\u001b[0m                     \u001b[1;32mtry\u001b[0m\u001b[1;33m:\u001b[0m\u001b[1;33m\u001b[0m\u001b[1;33m\u001b[0m\u001b[0m\n\u001b[1;32m--> 273\u001b[1;33m                         \u001b[1;32myield\u001b[0m \u001b[0mself\u001b[0m\u001b[1;33m.\u001b[0m\u001b[0mfilestream\u001b[0m\u001b[1;33m.\u001b[0m\u001b[0mmessage_from_file\u001b[0m\u001b[1;33m(\u001b[0m\u001b[0mfile\u001b[0m\u001b[1;33m,\u001b[0m \u001b[0merrors\u001b[0m\u001b[1;33m=\u001b[0m\u001b[0merrors\u001b[0m\u001b[1;33m)\u001b[0m\u001b[1;33m\u001b[0m\u001b[1;33m\u001b[0m\u001b[0m\n\u001b[0m\u001b[0;32m    274\u001b[0m                         \u001b[0mvalid_message_found\u001b[0m \u001b[1;33m=\u001b[0m \u001b[1;32mTrue\u001b[0m\u001b[1;33m\u001b[0m\u001b[1;33m\u001b[0m\u001b[0m\n",
      "\u001b[1;32m~\\anaconda3\\envs\\variogram\\lib\\site-packages\\cfgrib\\messages.py\u001b[0m in \u001b[0;36mmessage_from_file\u001b[1;34m(self, file, offset, **kwargs)\u001b[0m\n\u001b[0;32m    339\u001b[0m         \u001b[1;31m# type: (T.IO[bytes], T.Optional[OffsetType], T.Any) -> Message\u001b[0m\u001b[1;33m\u001b[0m\u001b[1;33m\u001b[0m\u001b[0m\n\u001b[1;32m--> 340\u001b[1;33m         \u001b[1;32mreturn\u001b[0m \u001b[0mMessage\u001b[0m\u001b[1;33m.\u001b[0m\u001b[0mfrom_file\u001b[0m\u001b[1;33m(\u001b[0m\u001b[0mfile\u001b[0m\u001b[1;33m,\u001b[0m \u001b[0moffset\u001b[0m\u001b[1;33m,\u001b[0m \u001b[1;33m**\u001b[0m\u001b[0mkwargs\u001b[0m\u001b[1;33m)\u001b[0m\u001b[1;33m\u001b[0m\u001b[1;33m\u001b[0m\u001b[0m\n\u001b[0m\u001b[0;32m    341\u001b[0m \u001b[1;33m\u001b[0m\u001b[0m\n",
      "\u001b[1;32m~\\anaconda3\\envs\\variogram\\lib\\site-packages\\cfgrib\\messages.py\u001b[0m in \u001b[0;36mfrom_file\u001b[1;34m(cls, file, offset, **kwargs)\u001b[0m\n\u001b[0;32m    103\u001b[0m         \u001b[1;32mif\u001b[0m \u001b[0mcodes_id\u001b[0m \u001b[1;32mis\u001b[0m \u001b[1;32mNone\u001b[0m\u001b[1;33m:\u001b[0m\u001b[1;33m\u001b[0m\u001b[1;33m\u001b[0m\u001b[0m\n\u001b[1;32m--> 104\u001b[1;33m             \u001b[1;32mraise\u001b[0m \u001b[0mEOFError\u001b[0m\u001b[1;33m(\u001b[0m\u001b[1;34m\"End of file: %r\"\u001b[0m \u001b[1;33m%\u001b[0m \u001b[0mfile\u001b[0m\u001b[1;33m)\u001b[0m\u001b[1;33m\u001b[0m\u001b[1;33m\u001b[0m\u001b[0m\n\u001b[0m\u001b[0;32m    105\u001b[0m         \u001b[1;32mreturn\u001b[0m \u001b[0mcls\u001b[0m\u001b[1;33m(\u001b[0m\u001b[0mcodes_id\u001b[0m\u001b[1;33m=\u001b[0m\u001b[0mcodes_id\u001b[0m\u001b[1;33m,\u001b[0m \u001b[1;33m**\u001b[0m\u001b[0mkwargs\u001b[0m\u001b[1;33m)\u001b[0m\u001b[1;33m\u001b[0m\u001b[1;33m\u001b[0m\u001b[0m\n",
      "\u001b[1;31mEOFError\u001b[0m: End of file: <_io.BufferedReader name='D:\\\\UTD\\\\UTDFall2022\\\\VariogramsLoRa\\\\firmware\\\\data\\\\gdas1.apr23.w1'>",
      "\nDuring handling of the above exception, another exception occurred:\n",
      "\u001b[1;31mEOFError\u001b[0m                                  Traceback (most recent call last)",
      "\u001b[1;32m~\\AppData\\Local\\Temp\\ipykernel_24236\\2404746377.py\u001b[0m in \u001b[0;36m<module>\u001b[1;34m\u001b[0m\n\u001b[0;32m      1\u001b[0m \u001b[1;31m# Open the GRIB file\u001b[0m\u001b[1;33m\u001b[0m\u001b[1;33m\u001b[0m\u001b[0m\n\u001b[0;32m      2\u001b[0m \u001b[0mfilename\u001b[0m \u001b[1;33m=\u001b[0m \u001b[1;34m'D:\\\\UTD\\\\UTDFall2022\\\\VariogramsLoRa\\\\firmware\\\\data\\\\gdas1.apr23.w1'\u001b[0m\u001b[1;33m\u001b[0m\u001b[1;33m\u001b[0m\u001b[0m\n\u001b[1;32m----> 3\u001b[1;33m \u001b[0mds\u001b[0m \u001b[1;33m=\u001b[0m \u001b[0mxr\u001b[0m\u001b[1;33m.\u001b[0m\u001b[0mload_dataset\u001b[0m\u001b[1;33m(\u001b[0m\u001b[0mfilename\u001b[0m\u001b[1;33m,\u001b[0m\u001b[0mengine\u001b[0m \u001b[1;33m=\u001b[0m \u001b[1;34m\"cfgrib\"\u001b[0m\u001b[1;33m)\u001b[0m\u001b[1;33m\u001b[0m\u001b[1;33m\u001b[0m\u001b[0m\n\u001b[0m",
      "\u001b[1;32m~\\anaconda3\\envs\\variogram\\lib\\site-packages\\xarray\\backends\\api.py\u001b[0m in \u001b[0;36mload_dataset\u001b[1;34m(filename_or_obj, **kwargs)\u001b[0m\n\u001b[0;32m    261\u001b[0m         \u001b[1;32mraise\u001b[0m \u001b[0mTypeError\u001b[0m\u001b[1;33m(\u001b[0m\u001b[1;34m\"cache has no effect in this context\"\u001b[0m\u001b[1;33m)\u001b[0m\u001b[1;33m\u001b[0m\u001b[1;33m\u001b[0m\u001b[0m\n\u001b[0;32m    262\u001b[0m \u001b[1;33m\u001b[0m\u001b[0m\n\u001b[1;32m--> 263\u001b[1;33m     \u001b[1;32mwith\u001b[0m \u001b[0mopen_dataset\u001b[0m\u001b[1;33m(\u001b[0m\u001b[0mfilename_or_obj\u001b[0m\u001b[1;33m,\u001b[0m \u001b[1;33m**\u001b[0m\u001b[0mkwargs\u001b[0m\u001b[1;33m)\u001b[0m \u001b[1;32mas\u001b[0m \u001b[0mds\u001b[0m\u001b[1;33m:\u001b[0m\u001b[1;33m\u001b[0m\u001b[1;33m\u001b[0m\u001b[0m\n\u001b[0m\u001b[0;32m    264\u001b[0m         \u001b[1;32mreturn\u001b[0m \u001b[0mds\u001b[0m\u001b[1;33m.\u001b[0m\u001b[0mload\u001b[0m\u001b[1;33m(\u001b[0m\u001b[1;33m)\u001b[0m\u001b[1;33m\u001b[0m\u001b[1;33m\u001b[0m\u001b[0m\n\u001b[0;32m    265\u001b[0m \u001b[1;33m\u001b[0m\u001b[0m\n",
      "\u001b[1;32m~\\anaconda3\\envs\\variogram\\lib\\site-packages\\xarray\\backends\\api.py\u001b[0m in \u001b[0;36mopen_dataset\u001b[1;34m(filename_or_obj, engine, chunks, cache, decode_cf, mask_and_scale, decode_times, decode_timedelta, use_cftime, concat_characters, decode_coords, drop_variables, inline_array, backend_kwargs, **kwargs)\u001b[0m\n\u001b[0;32m    523\u001b[0m \u001b[1;33m\u001b[0m\u001b[0m\n\u001b[0;32m    524\u001b[0m     \u001b[0moverwrite_encoded_chunks\u001b[0m \u001b[1;33m=\u001b[0m \u001b[0mkwargs\u001b[0m\u001b[1;33m.\u001b[0m\u001b[0mpop\u001b[0m\u001b[1;33m(\u001b[0m\u001b[1;34m\"overwrite_encoded_chunks\"\u001b[0m\u001b[1;33m,\u001b[0m \u001b[1;32mNone\u001b[0m\u001b[1;33m)\u001b[0m\u001b[1;33m\u001b[0m\u001b[1;33m\u001b[0m\u001b[0m\n\u001b[1;32m--> 525\u001b[1;33m     backend_ds = backend.open_dataset(\n\u001b[0m\u001b[0;32m    526\u001b[0m         \u001b[0mfilename_or_obj\u001b[0m\u001b[1;33m,\u001b[0m\u001b[1;33m\u001b[0m\u001b[1;33m\u001b[0m\u001b[0m\n\u001b[0;32m    527\u001b[0m         \u001b[0mdrop_variables\u001b[0m\u001b[1;33m=\u001b[0m\u001b[0mdrop_variables\u001b[0m\u001b[1;33m,\u001b[0m\u001b[1;33m\u001b[0m\u001b[1;33m\u001b[0m\u001b[0m\n",
      "\u001b[1;32m~\\anaconda3\\envs\\variogram\\lib\\site-packages\\cfgrib\\xarray_plugin.py\u001b[0m in \u001b[0;36mopen_dataset\u001b[1;34m(self, filename_or_obj, mask_and_scale, decode_times, concat_characters, decode_coords, drop_variables, use_cftime, decode_timedelta, lock, indexpath, filter_by_keys, read_keys, encode_cf, squeeze, time_dims, errors, extra_coords)\u001b[0m\n\u001b[0;32m    107\u001b[0m     ) -> xr.Dataset:\n\u001b[0;32m    108\u001b[0m \u001b[1;33m\u001b[0m\u001b[0m\n\u001b[1;32m--> 109\u001b[1;33m         store = CfGribDataStore(\n\u001b[0m\u001b[0;32m    110\u001b[0m             \u001b[0mfilename_or_obj\u001b[0m\u001b[1;33m,\u001b[0m\u001b[1;33m\u001b[0m\u001b[1;33m\u001b[0m\u001b[0m\n\u001b[0;32m    111\u001b[0m             \u001b[0mindexpath\u001b[0m\u001b[1;33m=\u001b[0m\u001b[0mindexpath\u001b[0m\u001b[1;33m,\u001b[0m\u001b[1;33m\u001b[0m\u001b[1;33m\u001b[0m\u001b[0m\n",
      "\u001b[1;32m~\\anaconda3\\envs\\variogram\\lib\\site-packages\\cfgrib\\xarray_plugin.py\u001b[0m in \u001b[0;36m__init__\u001b[1;34m(self, filename, lock, **backend_kwargs)\u001b[0m\n\u001b[0;32m     38\u001b[0m         \u001b[1;32melse\u001b[0m\u001b[1;33m:\u001b[0m\u001b[1;33m\u001b[0m\u001b[1;33m\u001b[0m\u001b[0m\n\u001b[0;32m     39\u001b[0m             \u001b[0mopener\u001b[0m \u001b[1;33m=\u001b[0m \u001b[0mdataset\u001b[0m\u001b[1;33m.\u001b[0m\u001b[0mopen_fieldset\u001b[0m\u001b[1;33m\u001b[0m\u001b[1;33m\u001b[0m\u001b[0m\n\u001b[1;32m---> 40\u001b[1;33m         \u001b[0mself\u001b[0m\u001b[1;33m.\u001b[0m\u001b[0mds\u001b[0m \u001b[1;33m=\u001b[0m \u001b[0mopener\u001b[0m\u001b[1;33m(\u001b[0m\u001b[0mfilename\u001b[0m\u001b[1;33m,\u001b[0m \u001b[1;33m**\u001b[0m\u001b[0mbackend_kwargs\u001b[0m\u001b[1;33m)\u001b[0m\u001b[1;33m\u001b[0m\u001b[1;33m\u001b[0m\u001b[0m\n\u001b[0m\u001b[0;32m     41\u001b[0m \u001b[1;33m\u001b[0m\u001b[0m\n\u001b[0;32m     42\u001b[0m     def open_store_variable(\n",
      "\u001b[1;32m~\\anaconda3\\envs\\variogram\\lib\\site-packages\\cfgrib\\dataset.py\u001b[0m in \u001b[0;36mopen_file\u001b[1;34m(path, grib_errors, indexpath, filter_by_keys, read_keys, time_dims, extra_coords, **kwargs)\u001b[0m\n\u001b[0;32m    776\u001b[0m \u001b[1;33m\u001b[0m\u001b[0m\n\u001b[0;32m    777\u001b[0m     \u001b[0mindex_keys\u001b[0m \u001b[1;33m=\u001b[0m \u001b[0mcompute_index_keys\u001b[0m\u001b[1;33m(\u001b[0m\u001b[0mtime_dims\u001b[0m\u001b[1;33m,\u001b[0m \u001b[0mextra_coords\u001b[0m\u001b[1;33m)\u001b[0m\u001b[1;33m\u001b[0m\u001b[1;33m\u001b[0m\u001b[0m\n\u001b[1;32m--> 778\u001b[1;33m     \u001b[0mindex\u001b[0m \u001b[1;33m=\u001b[0m \u001b[0mopen_fileindex\u001b[0m\u001b[1;33m(\u001b[0m\u001b[0mstream\u001b[0m\u001b[1;33m,\u001b[0m \u001b[0mindexpath\u001b[0m\u001b[1;33m,\u001b[0m \u001b[0mindex_keys\u001b[0m\u001b[1;33m,\u001b[0m \u001b[0mfilter_by_keys\u001b[0m\u001b[1;33m=\u001b[0m\u001b[0mfilter_by_keys\u001b[0m\u001b[1;33m)\u001b[0m\u001b[1;33m\u001b[0m\u001b[1;33m\u001b[0m\u001b[0m\n\u001b[0m\u001b[0;32m    779\u001b[0m \u001b[1;33m\u001b[0m\u001b[0m\n\u001b[0;32m    780\u001b[0m     \u001b[1;32mreturn\u001b[0m \u001b[0mopen_from_index\u001b[0m\u001b[1;33m(\u001b[0m\u001b[0mindex\u001b[0m\u001b[1;33m,\u001b[0m \u001b[0mread_keys\u001b[0m\u001b[1;33m,\u001b[0m \u001b[0mtime_dims\u001b[0m\u001b[1;33m,\u001b[0m \u001b[0mextra_coords\u001b[0m\u001b[1;33m,\u001b[0m \u001b[1;33m**\u001b[0m\u001b[0mkwargs\u001b[0m\u001b[1;33m)\u001b[0m\u001b[1;33m\u001b[0m\u001b[1;33m\u001b[0m\u001b[0m\n",
      "\u001b[1;32m~\\anaconda3\\envs\\variogram\\lib\\site-packages\\cfgrib\\dataset.py\u001b[0m in \u001b[0;36mopen_fileindex\u001b[1;34m(stream, indexpath, index_keys, filter_by_keys, computed_keys)\u001b[0m\n\u001b[0;32m    755\u001b[0m ) -> messages.FileIndex:\n\u001b[0;32m    756\u001b[0m     \u001b[0mindex_keys\u001b[0m \u001b[1;33m=\u001b[0m \u001b[0msorted\u001b[0m\u001b[1;33m(\u001b[0m\u001b[0mset\u001b[0m\u001b[1;33m(\u001b[0m\u001b[0mindex_keys\u001b[0m\u001b[1;33m)\u001b[0m \u001b[1;33m|\u001b[0m \u001b[0mset\u001b[0m\u001b[1;33m(\u001b[0m\u001b[0mfilter_by_keys\u001b[0m\u001b[1;33m)\u001b[0m\u001b[1;33m)\u001b[0m\u001b[1;33m\u001b[0m\u001b[1;33m\u001b[0m\u001b[0m\n\u001b[1;32m--> 757\u001b[1;33m     index = messages.FileIndex.from_indexpath_or_filestream(\n\u001b[0m\u001b[0;32m    758\u001b[0m         \u001b[0mstream\u001b[0m\u001b[1;33m,\u001b[0m \u001b[0mindex_keys\u001b[0m\u001b[1;33m,\u001b[0m \u001b[0mindexpath\u001b[0m\u001b[1;33m=\u001b[0m\u001b[0mindexpath\u001b[0m\u001b[1;33m,\u001b[0m \u001b[0mcomputed_keys\u001b[0m\u001b[1;33m=\u001b[0m\u001b[0mcomputed_keys\u001b[0m\u001b[1;33m\u001b[0m\u001b[1;33m\u001b[0m\u001b[0m\n\u001b[0;32m    759\u001b[0m     )\n",
      "\u001b[1;32m~\\anaconda3\\envs\\variogram\\lib\\site-packages\\cfgrib\\messages.py\u001b[0m in \u001b[0;36mfrom_indexpath_or_filestream\u001b[1;34m(cls, filestream, index_keys, indexpath, computed_keys, log)\u001b[0m\n\u001b[0;32m    559\u001b[0m             \u001b[0mlog\u001b[0m\u001b[1;33m.\u001b[0m\u001b[0mexception\u001b[0m\u001b[1;33m(\u001b[0m\u001b[1;34m\"Can't read index file %r\"\u001b[0m\u001b[1;33m,\u001b[0m \u001b[0mindexpath\u001b[0m\u001b[1;33m)\u001b[0m\u001b[1;33m\u001b[0m\u001b[1;33m\u001b[0m\u001b[0m\n\u001b[0;32m    560\u001b[0m \u001b[1;33m\u001b[0m\u001b[0m\n\u001b[1;32m--> 561\u001b[1;33m         \u001b[1;32mreturn\u001b[0m \u001b[0mcls\u001b[0m\u001b[1;33m.\u001b[0m\u001b[0mfrom_fieldset\u001b[0m\u001b[1;33m(\u001b[0m\u001b[0mfilestream\u001b[0m\u001b[1;33m,\u001b[0m \u001b[0mindex_keys\u001b[0m\u001b[1;33m,\u001b[0m \u001b[0mcomputed_keys\u001b[0m\u001b[1;33m)\u001b[0m\u001b[1;33m\u001b[0m\u001b[1;33m\u001b[0m\u001b[0m\n\u001b[0m\u001b[0;32m    562\u001b[0m \u001b[1;33m\u001b[0m\u001b[0m\n\u001b[0;32m    563\u001b[0m     \u001b[1;32mdef\u001b[0m \u001b[0msource\u001b[0m\u001b[1;33m(\u001b[0m\u001b[0mself\u001b[0m\u001b[1;33m)\u001b[0m \u001b[1;33m->\u001b[0m \u001b[0mstr\u001b[0m\u001b[1;33m:\u001b[0m\u001b[1;33m\u001b[0m\u001b[1;33m\u001b[0m\u001b[0m\n",
      "\u001b[1;32m~\\anaconda3\\envs\\variogram\\lib\\site-packages\\cfgrib\\messages.py\u001b[0m in \u001b[0;36mfrom_fieldset\u001b[1;34m(cls, fieldset, index_keys, computed_keys)\u001b[0m\n\u001b[0;32m    376\u001b[0m         \u001b[1;32melse\u001b[0m\u001b[1;33m:\u001b[0m\u001b[1;33m\u001b[0m\u001b[1;33m\u001b[0m\u001b[0m\n\u001b[0;32m    377\u001b[0m             \u001b[0miteritems\u001b[0m \u001b[1;33m=\u001b[0m \u001b[0menumerate\u001b[0m\u001b[1;33m(\u001b[0m\u001b[0mfieldset\u001b[0m\u001b[1;33m)\u001b[0m\u001b[1;33m\u001b[0m\u001b[1;33m\u001b[0m\u001b[0m\n\u001b[1;32m--> 378\u001b[1;33m         \u001b[1;32mreturn\u001b[0m \u001b[0mcls\u001b[0m\u001b[1;33m.\u001b[0m\u001b[0mfrom_fieldset_and_iteritems\u001b[0m\u001b[1;33m(\u001b[0m\u001b[0mfieldset\u001b[0m\u001b[1;33m,\u001b[0m \u001b[0miteritems\u001b[0m\u001b[1;33m,\u001b[0m \u001b[0mindex_keys\u001b[0m\u001b[1;33m,\u001b[0m \u001b[0mcomputed_keys\u001b[0m\u001b[1;33m)\u001b[0m\u001b[1;33m\u001b[0m\u001b[1;33m\u001b[0m\u001b[0m\n\u001b[0m\u001b[0;32m    379\u001b[0m \u001b[1;33m\u001b[0m\u001b[0m\n\u001b[0;32m    380\u001b[0m     \u001b[1;33m@\u001b[0m\u001b[0mclassmethod\u001b[0m\u001b[1;33m\u001b[0m\u001b[1;33m\u001b[0m\u001b[0m\n",
      "\u001b[1;32m~\\anaconda3\\envs\\variogram\\lib\\site-packages\\cfgrib\\messages.py\u001b[0m in \u001b[0;36mfrom_fieldset_and_iteritems\u001b[1;34m(cls, fieldset, iteritems, index_keys, computed_keys)\u001b[0m\n\u001b[0;32m    389\u001b[0m         \u001b[0mindex_keys\u001b[0m \u001b[1;33m=\u001b[0m \u001b[0mlist\u001b[0m\u001b[1;33m(\u001b[0m\u001b[0mindex_keys\u001b[0m\u001b[1;33m)\u001b[0m\u001b[1;33m\u001b[0m\u001b[1;33m\u001b[0m\u001b[0m\n\u001b[0;32m    390\u001b[0m         \u001b[0mheader_values_cache\u001b[0m \u001b[1;33m=\u001b[0m \u001b[1;33m{\u001b[0m\u001b[1;33m}\u001b[0m  \u001b[1;31m# type: T.Dict[T.Tuple[T.Any, type], T.Any]\u001b[0m\u001b[1;33m\u001b[0m\u001b[1;33m\u001b[0m\u001b[0m\n\u001b[1;32m--> 391\u001b[1;33m         \u001b[1;32mfor\u001b[0m \u001b[0mfield_id\u001b[0m\u001b[1;33m,\u001b[0m \u001b[0mraw_field\u001b[0m \u001b[1;32min\u001b[0m \u001b[0miteritems\u001b[0m\u001b[1;33m:\u001b[0m\u001b[1;33m\u001b[0m\u001b[1;33m\u001b[0m\u001b[0m\n\u001b[0m\u001b[0;32m    392\u001b[0m             \u001b[0mfield\u001b[0m \u001b[1;33m=\u001b[0m \u001b[0mComputedKeysAdapter\u001b[0m\u001b[1;33m(\u001b[0m\u001b[0mraw_field\u001b[0m\u001b[1;33m,\u001b[0m \u001b[0mcomputed_keys\u001b[0m\u001b[1;33m)\u001b[0m\u001b[1;33m\u001b[0m\u001b[1;33m\u001b[0m\u001b[0m\n\u001b[0;32m    393\u001b[0m             \u001b[0mheader_values\u001b[0m \u001b[1;33m=\u001b[0m \u001b[1;33m[\u001b[0m\u001b[1;33m]\u001b[0m\u001b[1;33m\u001b[0m\u001b[1;33m\u001b[0m\u001b[0m\n",
      "\u001b[1;32m~\\anaconda3\\envs\\variogram\\lib\\site-packages\\cfgrib\\messages.py\u001b[0m in \u001b[0;36m__iter__\u001b[1;34m(self)\u001b[0m\n\u001b[0;32m    289\u001b[0m         \u001b[0mold_offset\u001b[0m \u001b[1;33m=\u001b[0m \u001b[1;33m-\u001b[0m\u001b[1;36m1\u001b[0m\u001b[1;33m\u001b[0m\u001b[1;33m\u001b[0m\u001b[0m\n\u001b[0;32m    290\u001b[0m         \u001b[0mcount\u001b[0m \u001b[1;33m=\u001b[0m \u001b[1;36m0\u001b[0m\u001b[1;33m\u001b[0m\u001b[1;33m\u001b[0m\u001b[0m\n\u001b[1;32m--> 291\u001b[1;33m         \u001b[1;32mfor\u001b[0m \u001b[0mmessage\u001b[0m \u001b[1;32min\u001b[0m \u001b[0mself\u001b[0m\u001b[1;33m.\u001b[0m\u001b[0mitervalues\u001b[0m\u001b[1;33m(\u001b[0m\u001b[1;33m)\u001b[0m\u001b[1;33m:\u001b[0m\u001b[1;33m\u001b[0m\u001b[1;33m\u001b[0m\u001b[0m\n\u001b[0m\u001b[0;32m    292\u001b[0m             \u001b[0moffset\u001b[0m \u001b[1;33m=\u001b[0m \u001b[0mmessage\u001b[0m\u001b[1;33m.\u001b[0m\u001b[0mmessage_get\u001b[0m\u001b[1;33m(\u001b[0m\u001b[1;34m\"offset\"\u001b[0m\u001b[1;33m,\u001b[0m \u001b[0mint\u001b[0m\u001b[1;33m)\u001b[0m\u001b[1;33m\u001b[0m\u001b[1;33m\u001b[0m\u001b[0m\n\u001b[0;32m    293\u001b[0m             \u001b[1;32mif\u001b[0m \u001b[0moffset\u001b[0m \u001b[1;33m==\u001b[0m \u001b[0mold_offset\u001b[0m\u001b[1;33m:\u001b[0m\u001b[1;33m\u001b[0m\u001b[1;33m\u001b[0m\u001b[0m\n",
      "\u001b[1;32m~\\anaconda3\\envs\\variogram\\lib\\site-packages\\cfgrib\\messages.py\u001b[0m in \u001b[0;36mitervalues\u001b[1;34m(self)\u001b[0m\n\u001b[0;32m    275\u001b[0m                     \u001b[1;32mexcept\u001b[0m \u001b[0mEOFError\u001b[0m\u001b[1;33m:\u001b[0m\u001b[1;33m\u001b[0m\u001b[1;33m\u001b[0m\u001b[0m\n\u001b[0;32m    276\u001b[0m                         \u001b[1;32mif\u001b[0m \u001b[1;32mnot\u001b[0m \u001b[0mvalid_message_found\u001b[0m\u001b[1;33m:\u001b[0m\u001b[1;33m\u001b[0m\u001b[1;33m\u001b[0m\u001b[0m\n\u001b[1;32m--> 277\u001b[1;33m                             \u001b[1;32mraise\u001b[0m \u001b[0mEOFError\u001b[0m\u001b[1;33m(\u001b[0m\u001b[1;34m\"No valid message found: %r\"\u001b[0m \u001b[1;33m%\u001b[0m \u001b[0mself\u001b[0m\u001b[1;33m.\u001b[0m\u001b[0mfilestream\u001b[0m\u001b[1;33m.\u001b[0m\u001b[0mpath\u001b[0m\u001b[1;33m)\u001b[0m\u001b[1;33m\u001b[0m\u001b[1;33m\u001b[0m\u001b[0m\n\u001b[0m\u001b[0;32m    278\u001b[0m                         \u001b[1;32mbreak\u001b[0m\u001b[1;33m\u001b[0m\u001b[1;33m\u001b[0m\u001b[0m\n\u001b[0;32m    279\u001b[0m                     \u001b[1;32mexcept\u001b[0m \u001b[0mException\u001b[0m\u001b[1;33m:\u001b[0m\u001b[1;33m\u001b[0m\u001b[1;33m\u001b[0m\u001b[0m\n",
      "\u001b[1;31mEOFError\u001b[0m: No valid message found: 'D:\\\\UTD\\\\UTDFall2022\\\\VariogramsLoRa\\\\firmware\\\\data\\\\gdas1.apr23.w1'"
     ]
    }
   ],
   "source": [
    "\n",
    "# Open the GRIB file\n",
    "filename = 'D:\\\\UTD\\\\UTDFall2022\\\\VariogramsLoRa\\\\firmware\\\\data\\\\gdas1.apr23.w1'\n",
    "ds = xr.load_dataset(filename,engine = \"cfgrib\")"
   ]
  },
  {
   "cell_type": "code",
   "execution_count": null,
   "id": "7d1774d5",
   "metadata": {},
   "outputs": [],
   "source": [
    "ds"
   ]
  }
 ],
 "metadata": {
  "kernelspec": {
   "display_name": "Python 3 (ipykernel)",
   "language": "python",
   "name": "python3"
  },
  "language_info": {
   "codemirror_mode": {
    "name": "ipython",
    "version": 3
   },
   "file_extension": ".py",
   "mimetype": "text/x-python",
   "name": "python",
   "nbconvert_exporter": "python",
   "pygments_lexer": "ipython3",
   "version": "3.10.10"
  }
 },
 "nbformat": 4,
 "nbformat_minor": 5
}
