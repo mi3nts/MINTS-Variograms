{
 "cells": [
  {
   "cell_type": "code",
   "execution_count": 4,
   "id": "a57fbb4c",
   "metadata": {},
   "outputs": [],
   "source": [
    "import pygrib\n",
    "# Open the GRIB file\n",
    "filename = 'D:\\\\UTD\\\\UTDFall2022\\\\VariogramsLoRa\\\\firmware\\\\data\\\\gdas1.apr23.w1'\n",
    "grbs = pygrib.open(filename)"
   ]
  },
  {
   "cell_type": "code",
   "execution_count": 32,
   "id": "1e4e87e6",
   "metadata": {},
   "outputs": [
    {
     "ename": "OSError",
     "evalue": "not that many messages in file",
     "output_type": "error",
     "traceback": [
      "\u001b[1;31m---------------------------------------------------------------------------\u001b[0m",
      "\u001b[1;31mOSError\u001b[0m                                   Traceback (most recent call last)",
      "\u001b[1;32m~\\AppData\\Local\\Temp\\ipykernel_10892\\705988149.py\u001b[0m in \u001b[0;36m<module>\u001b[1;34m\u001b[0m\n\u001b[1;32m----> 1\u001b[1;33m \u001b[0mgrbs\u001b[0m\u001b[1;33m.\u001b[0m\u001b[0mread\u001b[0m\u001b[1;33m(\u001b[0m\u001b[1;36m10\u001b[0m\u001b[1;33m)\u001b[0m\u001b[1;33m\u001b[0m\u001b[1;33m\u001b[0m\u001b[0m\n\u001b[0m",
      "\u001b[1;32msrc\\pygrib\\_pygrib.pyx\u001b[0m in \u001b[0;36mpygrib._pygrib.open.read\u001b[1;34m()\u001b[0m\n",
      "\u001b[1;32msrc\\pygrib\\_pygrib.pyx\u001b[0m in \u001b[0;36mpygrib._pygrib.open._advance\u001b[1;34m()\u001b[0m\n",
      "\u001b[1;31mOSError\u001b[0m: not that many messages in file"
     ]
    }
   ],
   "source": [
    "grbs.read(10)"
   ]
  }
 ],
 "metadata": {
  "kernelspec": {
   "display_name": "Python 3 (ipykernel)",
   "language": "python",
   "name": "python3"
  },
  "language_info": {
   "codemirror_mode": {
    "name": "ipython",
    "version": 3
   },
   "file_extension": ".py",
   "mimetype": "text/x-python",
   "name": "python",
   "nbconvert_exporter": "python",
   "pygments_lexer": "ipython3",
   "version": "3.10.10"
  }
 },
 "nbformat": 4,
 "nbformat_minor": 5
}
